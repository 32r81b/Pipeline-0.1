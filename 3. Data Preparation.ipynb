{
 "cells": [
  {
   "cell_type": "code",
   "execution_count": 1,
   "metadata": {
    "scrolled": false
   },
   "outputs": [
    {
     "name": "stdout",
     "output_type": "stream",
     "text": [
      "Numerical columns:  107\n",
      "Create dummies for  Street :  2\n",
      "Create dummies for  LotShape :  4\n",
      "Create dummies for  LandContour :  4\n",
      "Create dummies for  LotConfig :  5\n",
      "Create dummies for  LandSlope :  3\n",
      "Create dummies for  Condition1 :  9\n",
      "Create dummies for  Condition2 :  8\n",
      "Create dummies for  BldgType :  5\n",
      "Create dummies for  HouseStyle :  8\n",
      "Create dummies for  RoofStyle :  6\n",
      "Create dummies for  RoofMatl :  8\n",
      "Create dummies for  ExterQual :  4\n",
      "Create dummies for  ExterCond :  5\n",
      "Create dummies for  Foundation :  6\n",
      "Create dummies for  Heating :  6\n",
      "Create dummies for  HeatingQC :  5\n",
      "Create dummies for  CentralAir :  2\n",
      "Create dummies for  PavedDrive :  3\n",
      "Create dummies for  SaleCondition :  6\n",
      "Create dummies for  MSZoning_idxmax :  5\n",
      "Create dummies for  Utilities_idxmax :  2\n",
      "Create dummies for  Exterior1st_idxmax :  15\n",
      "Create dummies for  Exterior2nd_idxmax :  16\n",
      "Create dummies for  MasVnrType_idxmax :  4\n",
      "Create dummies for  BsmtQual_idxmax :  4\n",
      "Create dummies for  BsmtCond_idxmax :  4\n",
      "Create dummies for  BsmtExposure_idxmax :  4\n",
      "Create dummies for  BsmtFinType1_idxmax :  6\n",
      "Create dummies for  BsmtFinType2_idxmax :  6\n",
      "Create dummies for  Electrical_idxmax :  5\n",
      "Create dummies for  KitchenQual_idxmax :  4\n",
      "Create dummies for  Functional_idxmax :  7\n",
      "Create dummies for  FireplaceQu_idxmax :  5\n",
      "Create dummies for  GarageType_idxmax :  6\n",
      "Create dummies for  GarageFinish_idxmax :  3\n",
      "Create dummies for  GarageQual_idxmax :  5\n",
      "Create dummies for  GarageCond_idxmax :  5\n",
      "Create dummies for  SaleType_idxmax :  9\n"
     ]
    },
    {
     "ename": "TypeError",
     "evalue": "'tuple' object is not callable",
     "output_type": "error",
     "traceback": [
      "\u001b[1;31m---------------------------------------------------------------------------\u001b[0m",
      "\u001b[1;31mTypeError\u001b[0m                                 Traceback (most recent call last)",
      "\u001b[1;32m<ipython-input-1-e9e9a575d5f8>\u001b[0m in \u001b[0;36m<module>\u001b[1;34m()\u001b[0m\n\u001b[0;32m     18\u001b[0m \u001b[1;33m\u001b[0m\u001b[0m\n\u001b[0;32m     19\u001b[0m \u001b[1;33m\u001b[0m\u001b[0m\n\u001b[1;32m---> 20\u001b[1;33m \u001b[0mtrain\u001b[0m\u001b[1;33m.\u001b[0m\u001b[0mshape\u001b[0m\u001b[1;33m(\u001b[0m\u001b[1;33m)\u001b[0m\u001b[1;33m\u001b[0m\u001b[0m\n\u001b[0m",
      "\u001b[1;31mTypeError\u001b[0m: 'tuple' object is not callable"
     ]
    }
   ],
   "source": [
    "import pandas as pd\n",
    "import numpy as np\n",
    "from DP_tools import DS_dummies, DS_numerical_feature_generator\n",
    "from usfull_tools import load_DS\n",
    "%matplotlib inline\n",
    "\n",
    "from set_vars import KAGGLE_PREFIX, debug_mode, KAGGLE_DIR, target_column\n",
    "\n",
    "pd.options.display.max_columns = None\n",
    "\n",
    "train, test = load_DS(debug_mode, KAGGLE_DIR, KAGGLE_PREFIX, '_cleand.csv')\n",
    "\n",
    "train, test = DS_numerical_feature_generator(train, test, target_column)\n",
    "train, test = DS_dummies(train, test, target_column)\n",
    "\n",
    "train.to_csv(KAGGLE_DIR + 'train' + KAGGLE_PREFIX + '_prepare.csv', index=False)\n",
    "test.to_csv(KAGGLE_DIR + 'test' + KAGGLE_PREFIX + '_prepare.csv', index=False)"
   ]
  },
  {
   "cell_type": "code",
   "execution_count": 2,
   "metadata": {},
   "outputs": [
    {
     "data": {
      "text/plain": [
       "(1460, 11703)"
      ]
     },
     "execution_count": 2,
     "metadata": {},
     "output_type": "execute_result"
    }
   ],
   "source": [
    "#debug\n",
    "train.shape"
   ]
  },
  {
   "cell_type": "code",
   "execution_count": null,
   "metadata": {},
   "outputs": [],
   "source": []
  },
  {
   "cell_type": "code",
   "execution_count": null,
   "metadata": {},
   "outputs": [],
   "source": []
  }
 ],
 "metadata": {
  "kernelspec": {
   "display_name": "Python 3",
   "language": "python",
   "name": "python3"
  },
  "language_info": {
   "codemirror_mode": {
    "name": "ipython",
    "version": 3
   },
   "file_extension": ".py",
   "mimetype": "text/x-python",
   "name": "python",
   "nbconvert_exporter": "python",
   "pygments_lexer": "ipython3",
   "version": "3.7.0"
  }
 },
 "nbformat": 4,
 "nbformat_minor": 2
}
