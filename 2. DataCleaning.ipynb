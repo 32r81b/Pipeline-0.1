{
 "cells": [
  {
   "cell_type": "markdown",
   "metadata": {},
   "source": [
    "# Подгружаем библиотеки и данные"
   ]
  },
  {
   "cell_type": "markdown",
   "metadata": {},
   "source": [
    "debug_mode служит индикатором, что работа с ноутбуком идет в режиме разработчика. В этом режиме для ускорения работы будут загружаться не все записи из датасета."
   ]
  },
  {
   "cell_type": "code",
   "execution_count": 2,
   "metadata": {
    "scrolled": true
   },
   "outputs": [
    {
     "name": "stdout",
     "output_type": "stream",
     "text": [
      "Drop as ID column:  Id\n",
      "object MSZoning : NAN  0.0 %  replaced  RL\n",
      "float16 LotFrontage 17.0 % NAN replaced by:  median =  68.0  / min =  21.0  / max =  313.0  / by zero\n",
      "object Utilities : NAN  0.0 %  replaced  AllPub\n",
      "object Exterior1st : NAN  0.0 %  replaced  VinylSd\n",
      "object Exterior2nd : NAN  0.0 %  replaced  VinylSd\n",
      "object MasVnrType : NAN  1.0 %  replaced  None\n",
      "float16 MasVnrArea 1.0 % NAN replaced by:  median =  0.0  / min =  0.0  / max =  1600.0  / by zero\n",
      "object BsmtQual : NAN  3.0 %  replaced  TA\n",
      "object BsmtCond : NAN  3.0 %  replaced  TA\n",
      "object BsmtExposure : NAN  3.0 %  replaced  No\n",
      "object BsmtFinType1 : NAN  3.0 %  replaced  Unf\n",
      "float16 BsmtFinSF1 0.0 % NAN replaced by:  median =  368.5  / min =  0.0  / max =  5644.0  / by zero\n",
      "object BsmtFinType2 : NAN  3.0 %  replaced  Unf\n",
      "float16 BsmtFinSF2 0.0 % NAN replaced by:  median =  0.0  / min =  0.0  / max =  1526.0  / by zero\n",
      "float16 BsmtUnfSF 0.0 % NAN replaced by:  median =  467.0  / min =  0.0  / max =  2336.0  / by zero\n",
      "float16 TotalBsmtSF 0.0 % NAN replaced by:  median =  989.5  / min =  0.0  / max =  6110.0  / by zero\n",
      "object Electrical : NAN  0.0 %  replaced  SBrkr\n",
      "float16 BsmtFullBath 0.0 % NAN replaced by:  median =  0.0  / min =  0.0  / max =  3.0  / by zero\n",
      "float16 BsmtHalfBath 0.0 % NAN replaced by:  median =  0.0  / min =  0.0  / max =  2.0  / by zero\n",
      "object KitchenQual : NAN  0.0 %  replaced  TA\n",
      "object Functional : NAN  0.0 %  replaced  Typ\n",
      "object FireplaceQu : NAN  49.0 %  replaced  Gd\n",
      "object GarageType : NAN  5.0 %  replaced  Attchd\n",
      "float16 GarageYrBlt 5.0 % NAN replaced by:  median =  1979.0  / min =  1895.0  / max =  2208.0  / by zero\n",
      "object GarageFinish : NAN  5.0 %  replaced  Unf\n",
      "float16 GarageCars 0.0 % NAN replaced by:  median =  2.0  / min =  0.0  / max =  5.0  / by zero\n",
      "float16 GarageArea 0.0 % NAN replaced by:  median =  480.0  / min =  0.0  / max =  1488.0  / by zero\n",
      "object GarageQual : NAN  5.0 %  replaced  TA\n",
      "object GarageCond : NAN  5.0 %  replaced  TA\n",
      "object SaleType : NAN  0.0 %  replaced  WD\n"
     ]
    }
   ],
   "source": [
    "import pandas as pd\n",
    "import numpy as np\n",
    "from DC_tools import DS_reaplce_nan\n",
    "from usfull_tools import load_DS\n",
    "from set_vars import forced_dtype\n",
    "%matplotlib inline\n",
    "\n",
    "from set_vars import KAGGLE_PREFIX, debug_mode, KAGGLE_DIR, target_column\n",
    "\n",
    "pd.options.display.max_columns = None\n",
    "\n",
    "train, test = load_DS(debug_mode, KAGGLE_DIR, KAGGLE_PREFIX)\n",
    "\n",
    "#Принудительное преобразование типов\n",
    "train = train.astype(forced_dtype)\n",
    "test = test.astype(forced_dtype)\n",
    "\n",
    "#test.BsmtFullBath.dtype\n",
    "\n",
    "train, test, DS = DS_reaplce_nan(train, test, target_column)\n",
    "\n",
    "train.to_csv(KAGGLE_DIR + 'train' + KAGGLE_PREFIX + '_cleand.csv', index=False)\n",
    "test.to_csv(KAGGLE_DIR + 'test' + KAGGLE_PREFIX + '_cleand.csv', index=False)"
   ]
  },
  {
   "cell_type": "code",
   "execution_count": null,
   "metadata": {},
   "outputs": [],
   "source": []
  }
 ],
 "metadata": {
  "kernelspec": {
   "display_name": "Python 3",
   "language": "python",
   "name": "python3"
  },
  "language_info": {
   "codemirror_mode": {
    "name": "ipython",
    "version": 3
   },
   "file_extension": ".py",
   "mimetype": "text/x-python",
   "name": "python",
   "nbconvert_exporter": "python",
   "pygments_lexer": "ipython3",
   "version": "3.7.0"
  }
 },
 "nbformat": 4,
 "nbformat_minor": 2
}
