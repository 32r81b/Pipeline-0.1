{
 "cells": [
  {
   "cell_type": "markdown",
   "metadata": {},
   "source": [
    "# Подгружаем библиотеки и данные"
   ]
  },
  {
   "cell_type": "markdown",
   "metadata": {},
   "source": [
    "debug_mode служит индикатором, что работа с ноутбуком идет в режиме разработчика. В этом режиме для ускорения работы будут загружаться не все записи из датасета."
   ]
  },
  {
   "cell_type": "code",
   "execution_count": 1,
   "metadata": {
    "scrolled": true
   },
   "outputs": [
    {
     "name": "stdout",
     "output_type": "stream",
     "text": [
      "Drop as ID column:  Id\n"
     ]
    }
   ],
   "source": [
    "import pandas as pd\n",
    "import numpy as np\n",
    "from DC_tools import DS_reaplce_nan\n",
    "from usfull_tools import reduce_mem_usage\n",
    "%matplotlib inline\n",
    "\n",
    "from set_vars import KAGGLE_PREFIX, debug_mode, KAGGLE_DIR, target_column\n",
    "\n",
    "pd.options.display.max_columns = None\n",
    "\n",
    "if debug_mode == True:\n",
    "    train = pd.read_csv(KAGGLE_DIR + 'train' + KAGGLE_PREFIX + '.csv', nrows=100000)\n",
    "    test = pd.read_csv(KAGGLE_DIR + 'test' + KAGGLE_PREFIX + '.csv', nrows=100000)\n",
    "else:\n",
    "    train = pd.read_csv(KAGGLE_DIR + 'train' + KAGGLE_PREFIX + '.csv')\n",
    "    test = pd.read_csv(KAGGLE_DIR + 'test' + KAGGLE_PREFIX + '.csv')\n",
    "\n",
    "train = reduce_mem_usage(train)\n",
    "test = reduce_mem_usage(test)\n",
    "\n",
    "train, test, DS = DS_reaplce_nan(train, test, target_column)\n",
    "train.to_csv(KAGGLE_DIR + 'train' + KAGGLE_PREFIX + '_cleand.csv', index=False)\n",
    "test.to_csv(KAGGLE_DIR + 'test' + KAGGLE_PREFIX + '_cleand.csv', index=False)"
   ]
  },
  {
   "cell_type": "code",
   "execution_count": 2,
   "metadata": {
    "scrolled": false
   },
   "outputs": [
    {
     "data": {
      "text/plain": [
       "(418, 20)"
      ]
     },
     "execution_count": 2,
     "metadata": {},
     "output_type": "execute_result"
    }
   ],
   "source": [
    "test.shape"
   ]
  },
  {
   "cell_type": "code",
   "execution_count": 3,
   "metadata": {
    "scrolled": true
   },
   "outputs": [
    {
     "data": {
      "text/plain": [
       "(891, 21)"
      ]
     },
     "execution_count": 3,
     "metadata": {},
     "output_type": "execute_result"
    }
   ],
   "source": [
    "train.shape"
   ]
  },
  {
   "cell_type": "code",
   "execution_count": 4,
   "metadata": {
    "scrolled": true
   },
   "outputs": [
    {
     "data": {
      "text/plain": [
       "(1309, 21)"
      ]
     },
     "execution_count": 4,
     "metadata": {},
     "output_type": "execute_result"
    }
   ],
   "source": [
    "DS.shape"
   ]
  },
  {
   "cell_type": "code",
   "execution_count": 5,
   "metadata": {},
   "outputs": [
    {
     "data": {
      "text/html": [
       "<div>\n",
       "<style scoped>\n",
       "    .dataframe tbody tr th:only-of-type {\n",
       "        vertical-align: middle;\n",
       "    }\n",
       "\n",
       "    .dataframe tbody tr th {\n",
       "        vertical-align: top;\n",
       "    }\n",
       "\n",
       "    .dataframe thead th {\n",
       "        text-align: right;\n",
       "    }\n",
       "</style>\n",
       "<table border=\"1\" class=\"dataframe\">\n",
       "  <thead>\n",
       "    <tr style=\"text-align: right;\">\n",
       "      <th></th>\n",
       "      <th>Survived</th>\n",
       "      <th>Pclass</th>\n",
       "      <th>Name</th>\n",
       "      <th>Sex</th>\n",
       "      <th>SibSp</th>\n",
       "      <th>Parch</th>\n",
       "      <th>Ticket</th>\n",
       "      <th>Age_nan</th>\n",
       "      <th>Age_nan_median</th>\n",
       "      <th>Age_nan_min</th>\n",
       "      <th>Age_nan_max</th>\n",
       "      <th>Age_nan_0</th>\n",
       "      <th>Fare_nan</th>\n",
       "      <th>Fare_nan_median</th>\n",
       "      <th>Fare_nan_min</th>\n",
       "      <th>Fare_nan_max</th>\n",
       "      <th>Fare_nan_0</th>\n",
       "      <th>Cabin_nan</th>\n",
       "      <th>Cabin_isnull</th>\n",
       "      <th>Embarked_nan</th>\n",
       "      <th>Embarked_idxmax</th>\n",
       "    </tr>\n",
       "  </thead>\n",
       "  <tbody>\n",
       "    <tr>\n",
       "      <th>0</th>\n",
       "      <td>0.0</td>\n",
       "      <td>3</td>\n",
       "      <td>Braund, Mr. Owen Harris</td>\n",
       "      <td>male</td>\n",
       "      <td>1</td>\n",
       "      <td>0</td>\n",
       "      <td>A/5 21171</td>\n",
       "      <td>22.0</td>\n",
       "      <td>22.0</td>\n",
       "      <td>22.0</td>\n",
       "      <td>22.0</td>\n",
       "      <td>22.0</td>\n",
       "      <td>7.250000</td>\n",
       "      <td>7.250000</td>\n",
       "      <td>7.250000</td>\n",
       "      <td>7.250000</td>\n",
       "      <td>7.250000</td>\n",
       "      <td>NaN</td>\n",
       "      <td>True</td>\n",
       "      <td>S</td>\n",
       "      <td>S</td>\n",
       "    </tr>\n",
       "    <tr>\n",
       "      <th>1</th>\n",
       "      <td>1.0</td>\n",
       "      <td>1</td>\n",
       "      <td>Cumings, Mrs. John Bradley (Florence Briggs Th...</td>\n",
       "      <td>female</td>\n",
       "      <td>1</td>\n",
       "      <td>0</td>\n",
       "      <td>PC 17599</td>\n",
       "      <td>38.0</td>\n",
       "      <td>38.0</td>\n",
       "      <td>38.0</td>\n",
       "      <td>38.0</td>\n",
       "      <td>38.0</td>\n",
       "      <td>71.312500</td>\n",
       "      <td>71.312500</td>\n",
       "      <td>71.312500</td>\n",
       "      <td>71.312500</td>\n",
       "      <td>71.312500</td>\n",
       "      <td>C85</td>\n",
       "      <td>False</td>\n",
       "      <td>C</td>\n",
       "      <td>C</td>\n",
       "    </tr>\n",
       "    <tr>\n",
       "      <th>2</th>\n",
       "      <td>1.0</td>\n",
       "      <td>3</td>\n",
       "      <td>Heikkinen, Miss. Laina</td>\n",
       "      <td>female</td>\n",
       "      <td>0</td>\n",
       "      <td>0</td>\n",
       "      <td>STON/O2. 3101282</td>\n",
       "      <td>26.0</td>\n",
       "      <td>26.0</td>\n",
       "      <td>26.0</td>\n",
       "      <td>26.0</td>\n",
       "      <td>26.0</td>\n",
       "      <td>7.925781</td>\n",
       "      <td>7.925781</td>\n",
       "      <td>7.925781</td>\n",
       "      <td>7.925781</td>\n",
       "      <td>7.925781</td>\n",
       "      <td>NaN</td>\n",
       "      <td>True</td>\n",
       "      <td>S</td>\n",
       "      <td>S</td>\n",
       "    </tr>\n",
       "    <tr>\n",
       "      <th>3</th>\n",
       "      <td>1.0</td>\n",
       "      <td>1</td>\n",
       "      <td>Futrelle, Mrs. Jacques Heath (Lily May Peel)</td>\n",
       "      <td>female</td>\n",
       "      <td>1</td>\n",
       "      <td>0</td>\n",
       "      <td>113803</td>\n",
       "      <td>35.0</td>\n",
       "      <td>35.0</td>\n",
       "      <td>35.0</td>\n",
       "      <td>35.0</td>\n",
       "      <td>35.0</td>\n",
       "      <td>53.093750</td>\n",
       "      <td>53.093750</td>\n",
       "      <td>53.093750</td>\n",
       "      <td>53.093750</td>\n",
       "      <td>53.093750</td>\n",
       "      <td>C123</td>\n",
       "      <td>False</td>\n",
       "      <td>S</td>\n",
       "      <td>S</td>\n",
       "    </tr>\n",
       "    <tr>\n",
       "      <th>4</th>\n",
       "      <td>0.0</td>\n",
       "      <td>3</td>\n",
       "      <td>Allen, Mr. William Henry</td>\n",
       "      <td>male</td>\n",
       "      <td>0</td>\n",
       "      <td>0</td>\n",
       "      <td>373450</td>\n",
       "      <td>35.0</td>\n",
       "      <td>35.0</td>\n",
       "      <td>35.0</td>\n",
       "      <td>35.0</td>\n",
       "      <td>35.0</td>\n",
       "      <td>8.046875</td>\n",
       "      <td>8.046875</td>\n",
       "      <td>8.046875</td>\n",
       "      <td>8.046875</td>\n",
       "      <td>8.046875</td>\n",
       "      <td>NaN</td>\n",
       "      <td>True</td>\n",
       "      <td>S</td>\n",
       "      <td>S</td>\n",
       "    </tr>\n",
       "  </tbody>\n",
       "</table>\n",
       "</div>"
      ],
      "text/plain": [
       "   Survived  Pclass                                               Name  \\\n",
       "0       0.0       3                            Braund, Mr. Owen Harris   \n",
       "1       1.0       1  Cumings, Mrs. John Bradley (Florence Briggs Th...   \n",
       "2       1.0       3                             Heikkinen, Miss. Laina   \n",
       "3       1.0       1       Futrelle, Mrs. Jacques Heath (Lily May Peel)   \n",
       "4       0.0       3                           Allen, Mr. William Henry   \n",
       "\n",
       "      Sex  SibSp  Parch            Ticket  Age_nan  Age_nan_median  \\\n",
       "0    male      1      0         A/5 21171     22.0            22.0   \n",
       "1  female      1      0          PC 17599     38.0            38.0   \n",
       "2  female      0      0  STON/O2. 3101282     26.0            26.0   \n",
       "3  female      1      0            113803     35.0            35.0   \n",
       "4    male      0      0            373450     35.0            35.0   \n",
       "\n",
       "   Age_nan_min  Age_nan_max  Age_nan_0   Fare_nan  Fare_nan_median  \\\n",
       "0         22.0         22.0       22.0   7.250000         7.250000   \n",
       "1         38.0         38.0       38.0  71.312500        71.312500   \n",
       "2         26.0         26.0       26.0   7.925781         7.925781   \n",
       "3         35.0         35.0       35.0  53.093750        53.093750   \n",
       "4         35.0         35.0       35.0   8.046875         8.046875   \n",
       "\n",
       "   Fare_nan_min  Fare_nan_max  Fare_nan_0 Cabin_nan  Cabin_isnull  \\\n",
       "0      7.250000      7.250000    7.250000       NaN          True   \n",
       "1     71.312500     71.312500   71.312500       C85         False   \n",
       "2      7.925781      7.925781    7.925781       NaN          True   \n",
       "3     53.093750     53.093750   53.093750      C123         False   \n",
       "4      8.046875      8.046875    8.046875       NaN          True   \n",
       "\n",
       "  Embarked_nan Embarked_idxmax  \n",
       "0            S               S  \n",
       "1            C               C  \n",
       "2            S               S  \n",
       "3            S               S  \n",
       "4            S               S  "
      ]
     },
     "execution_count": 5,
     "metadata": {},
     "output_type": "execute_result"
    }
   ],
   "source": [
    "train.head()"
   ]
  },
  {
   "cell_type": "code",
   "execution_count": null,
   "metadata": {},
   "outputs": [],
   "source": []
  }
 ],
 "metadata": {
  "kernelspec": {
   "display_name": "Python 3",
   "language": "python",
   "name": "python3"
  },
  "language_info": {
   "codemirror_mode": {
    "name": "ipython",
    "version": 3
   },
   "file_extension": ".py",
   "mimetype": "text/x-python",
   "name": "python",
   "nbconvert_exporter": "python",
   "pygments_lexer": "ipython3",
   "version": "3.6.5"
  }
 },
 "nbformat": 4,
 "nbformat_minor": 2
}
