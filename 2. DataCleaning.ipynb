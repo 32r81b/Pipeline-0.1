{
 "cells": [
  {
   "cell_type": "markdown",
   "metadata": {},
   "source": [
    "# Подгружаем библиотеки и данные"
   ]
  },
  {
   "cell_type": "markdown",
   "metadata": {},
   "source": [
    "debug_mode служит индикатором, что работа с ноутбуком идет в режиме разработчика. В этом режиме для ускорения работы будут загружаться не все записи из датасета."
   ]
  },
  {
   "cell_type": "code",
   "execution_count": 1,
   "metadata": {
    "scrolled": true
   },
   "outputs": [
    {
     "name": "stdout",
     "output_type": "stream",
     "text": [
      "drop as ID column:  PassengerId\n",
      "Age : NAN  20.0 %  replaced  28.0\n",
      "Fare : NAN  0.0 %  replaced  14.45\n",
      "Embarked : NAN  0.0 %  replaced  S\n"
     ]
    }
   ],
   "source": [
    "import pandas as pd\n",
    "import numpy as np\n",
    "from DC_tools import DS_clean\n",
    "from usfull_tools import reduce_mem_usage\n",
    "%matplotlib inline\n",
    "KAGGLE_PREFIX = ''\n",
    "\n",
    "debug_mode = True\n",
    "pd.options.display.max_columns = None\n",
    "\n",
    "#KAGGLE_DIR = 'C:/Users/Acer/PycharmProjects/Pipeline-0.1/input_pubg-finish-placement-prediction/';KAGGLE_PREFIX = '_V2';target_column = 'winPlacePerc';\n",
    "KAGGLE_DIR = 'C:/Users/Acer/PycharmProjects/Pipeline-0.1/input_titanic/';target_column = 'Survived';\n",
    "#KAGGLE_DIR = '../input/'\n",
    "\n",
    "if debug_mode == True:\n",
    "    train = pd.read_csv(KAGGLE_DIR + 'train' + KAGGLE_PREFIX + '.csv', nrows=100000)\n",
    "    test = pd.read_csv(KAGGLE_DIR + 'test' + KAGGLE_PREFIX + '.csv', nrows=100000)\n",
    "else:\n",
    "    train = pd.read_csv(KAGGLE_DIR + 'train' + KAGGLE_PREFIX + '.csv')\n",
    "    test = pd.read_csv(KAGGLE_DIR + 'test' + KAGGLE_PREFIX + '.csv')\n",
    "\n",
    "train = reduce_mem_usage(train)\n",
    "test = reduce_mem_usage(test)\n",
    "\n",
    "train, test, DS = DS_clean(train, test, target_column)\n",
    "train.to_csv(KAGGLE_DIR + 'train' + KAGGLE_PREFIX + '_cleand.csv')"
   ]
  },
  {
   "cell_type": "code",
   "execution_count": 2,
   "metadata": {
    "scrolled": false
   },
   "outputs": [
    {
     "data": {
      "text/plain": [
       "(418, 14)"
      ]
     },
     "execution_count": 2,
     "metadata": {},
     "output_type": "execute_result"
    }
   ],
   "source": [
    "test.shape"
   ]
  },
  {
   "cell_type": "code",
   "execution_count": 3,
   "metadata": {
    "scrolled": true
   },
   "outputs": [
    {
     "data": {
      "text/plain": [
       "(891, 15)"
      ]
     },
     "execution_count": 3,
     "metadata": {},
     "output_type": "execute_result"
    }
   ],
   "source": [
    "train.shape"
   ]
  },
  {
   "cell_type": "code",
   "execution_count": 4,
   "metadata": {
    "scrolled": true
   },
   "outputs": [
    {
     "data": {
      "text/plain": [
       "(1309, 15)"
      ]
     },
     "execution_count": 4,
     "metadata": {},
     "output_type": "execute_result"
    }
   ],
   "source": [
    "DS.shape"
   ]
  },
  {
   "cell_type": "code",
   "execution_count": 6,
   "metadata": {},
   "outputs": [
    {
     "data": {
      "text/html": [
       "<div>\n",
       "<style scoped>\n",
       "    .dataframe tbody tr th:only-of-type {\n",
       "        vertical-align: middle;\n",
       "    }\n",
       "\n",
       "    .dataframe tbody tr th {\n",
       "        vertical-align: top;\n",
       "    }\n",
       "\n",
       "    .dataframe thead th {\n",
       "        text-align: right;\n",
       "    }\n",
       "</style>\n",
       "<table border=\"1\" class=\"dataframe\">\n",
       "  <thead>\n",
       "    <tr style=\"text-align: right;\">\n",
       "      <th></th>\n",
       "      <th>Survived</th>\n",
       "      <th>Pclass</th>\n",
       "      <th>Name</th>\n",
       "      <th>Sex</th>\n",
       "      <th>SibSp</th>\n",
       "      <th>Parch</th>\n",
       "      <th>Ticket</th>\n",
       "      <th>Age_nan</th>\n",
       "      <th>Age_median</th>\n",
       "      <th>Fare_nan</th>\n",
       "      <th>Fare_median</th>\n",
       "      <th>Cabin_nan</th>\n",
       "      <th>Cabin_isnull</th>\n",
       "      <th>Embarked_nan</th>\n",
       "      <th>Embarked_idxmax</th>\n",
       "    </tr>\n",
       "  </thead>\n",
       "  <tbody>\n",
       "    <tr>\n",
       "      <th>0</th>\n",
       "      <td>0.0</td>\n",
       "      <td>3</td>\n",
       "      <td>Braund, Mr. Owen Harris</td>\n",
       "      <td>male</td>\n",
       "      <td>1</td>\n",
       "      <td>0</td>\n",
       "      <td>A/5 21171</td>\n",
       "      <td>22.0</td>\n",
       "      <td>22.0</td>\n",
       "      <td>7.250000</td>\n",
       "      <td>7.250000</td>\n",
       "      <td>NaN</td>\n",
       "      <td>True</td>\n",
       "      <td>S</td>\n",
       "      <td>S</td>\n",
       "    </tr>\n",
       "    <tr>\n",
       "      <th>1</th>\n",
       "      <td>1.0</td>\n",
       "      <td>1</td>\n",
       "      <td>Cumings, Mrs. John Bradley (Florence Briggs Th...</td>\n",
       "      <td>female</td>\n",
       "      <td>1</td>\n",
       "      <td>0</td>\n",
       "      <td>PC 17599</td>\n",
       "      <td>38.0</td>\n",
       "      <td>38.0</td>\n",
       "      <td>71.312500</td>\n",
       "      <td>71.312500</td>\n",
       "      <td>C85</td>\n",
       "      <td>False</td>\n",
       "      <td>C</td>\n",
       "      <td>C</td>\n",
       "    </tr>\n",
       "    <tr>\n",
       "      <th>2</th>\n",
       "      <td>1.0</td>\n",
       "      <td>3</td>\n",
       "      <td>Heikkinen, Miss. Laina</td>\n",
       "      <td>female</td>\n",
       "      <td>0</td>\n",
       "      <td>0</td>\n",
       "      <td>STON/O2. 3101282</td>\n",
       "      <td>26.0</td>\n",
       "      <td>26.0</td>\n",
       "      <td>7.925781</td>\n",
       "      <td>7.925781</td>\n",
       "      <td>NaN</td>\n",
       "      <td>True</td>\n",
       "      <td>S</td>\n",
       "      <td>S</td>\n",
       "    </tr>\n",
       "    <tr>\n",
       "      <th>3</th>\n",
       "      <td>1.0</td>\n",
       "      <td>1</td>\n",
       "      <td>Futrelle, Mrs. Jacques Heath (Lily May Peel)</td>\n",
       "      <td>female</td>\n",
       "      <td>1</td>\n",
       "      <td>0</td>\n",
       "      <td>113803</td>\n",
       "      <td>35.0</td>\n",
       "      <td>35.0</td>\n",
       "      <td>53.093750</td>\n",
       "      <td>53.093750</td>\n",
       "      <td>C123</td>\n",
       "      <td>False</td>\n",
       "      <td>S</td>\n",
       "      <td>S</td>\n",
       "    </tr>\n",
       "    <tr>\n",
       "      <th>4</th>\n",
       "      <td>0.0</td>\n",
       "      <td>3</td>\n",
       "      <td>Allen, Mr. William Henry</td>\n",
       "      <td>male</td>\n",
       "      <td>0</td>\n",
       "      <td>0</td>\n",
       "      <td>373450</td>\n",
       "      <td>35.0</td>\n",
       "      <td>35.0</td>\n",
       "      <td>8.046875</td>\n",
       "      <td>8.046875</td>\n",
       "      <td>NaN</td>\n",
       "      <td>True</td>\n",
       "      <td>S</td>\n",
       "      <td>S</td>\n",
       "    </tr>\n",
       "  </tbody>\n",
       "</table>\n",
       "</div>"
      ],
      "text/plain": [
       "   Survived  Pclass                                               Name  \\\n",
       "0       0.0       3                            Braund, Mr. Owen Harris   \n",
       "1       1.0       1  Cumings, Mrs. John Bradley (Florence Briggs Th...   \n",
       "2       1.0       3                             Heikkinen, Miss. Laina   \n",
       "3       1.0       1       Futrelle, Mrs. Jacques Heath (Lily May Peel)   \n",
       "4       0.0       3                           Allen, Mr. William Henry   \n",
       "\n",
       "      Sex  SibSp  Parch            Ticket  Age_nan  Age_median   Fare_nan  \\\n",
       "0    male      1      0         A/5 21171     22.0        22.0   7.250000   \n",
       "1  female      1      0          PC 17599     38.0        38.0  71.312500   \n",
       "2  female      0      0  STON/O2. 3101282     26.0        26.0   7.925781   \n",
       "3  female      1      0            113803     35.0        35.0  53.093750   \n",
       "4    male      0      0            373450     35.0        35.0   8.046875   \n",
       "\n",
       "   Fare_median Cabin_nan  Cabin_isnull Embarked_nan Embarked_idxmax  \n",
       "0     7.250000       NaN          True            S               S  \n",
       "1    71.312500       C85         False            C               C  \n",
       "2     7.925781       NaN          True            S               S  \n",
       "3    53.093750      C123         False            S               S  \n",
       "4     8.046875       NaN          True            S               S  "
      ]
     },
     "execution_count": 6,
     "metadata": {},
     "output_type": "execute_result"
    }
   ],
   "source": [
    "train.head()"
   ]
  },
  {
   "cell_type": "code",
   "execution_count": null,
   "metadata": {},
   "outputs": [],
   "source": []
  }
 ],
 "metadata": {
  "kernelspec": {
   "display_name": "Python 3",
   "language": "python",
   "name": "python3"
  },
  "language_info": {
   "codemirror_mode": {
    "name": "ipython",
    "version": 3
   },
   "file_extension": ".py",
   "mimetype": "text/x-python",
   "name": "python",
   "nbconvert_exporter": "python",
   "pygments_lexer": "ipython3",
   "version": "3.6.5"
  }
 },
 "nbformat": 4,
 "nbformat_minor": 2
}
