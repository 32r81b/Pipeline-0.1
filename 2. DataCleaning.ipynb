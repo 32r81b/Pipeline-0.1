{
 "cells": [
  {
   "cell_type": "markdown",
   "metadata": {},
   "source": [
    "# Подгружаем библиотеки и данные"
   ]
  },
  {
   "cell_type": "markdown",
   "metadata": {},
   "source": [
    "debug_mode служит индикатором, что работа с ноутбуком идет в режиме разработчика. В этом режиме для ускорения работы будут загружаться не все записи из датасета."
   ]
  },
  {
   "cell_type": "code",
   "execution_count": 1,
   "metadata": {
    "scrolled": false
   },
   "outputs": [],
   "source": [
    "import pandas as pd\n",
    "import numpy as np\n",
    "from DC_tools import DS_reaplce_nan\n",
    "from usfull_tools import load_DS\n",
    "from set_vars import forced_dtype\n",
    "%matplotlib inline\n",
    "\n",
    "from set_vars import KAGGLE_PREFIX, debug_mode, KAGGLE_DIR, target_column\n",
    "\n",
    "pd.options.display.max_columns = None\n",
    "\n",
    "train, test = load_DS(debug_mode, KAGGLE_DIR, KAGGLE_PREFIX)\n",
    "\n",
    "#Принудительное преобразование типов\n",
    "train = train.astype(forced_dtype)\n",
    "test = test.astype(forced_dtype)"
   ]
  },
  {
   "cell_type": "code",
   "execution_count": null,
   "metadata": {},
   "outputs": [
    {
     "name": "stdout",
     "output_type": "stream",
     "text": [
      "\n",
      "\n",
      "--- Drop as ID column:  Id\n",
      "\n",
      "\n",
      "--- object MSZoning : NAN  0.0 % ( 4  observations)  replaced  RL\n",
      "\n",
      "\n",
      "---Searching best NAN replace for numeric_fraction: LotFrontage\n",
      "fast_score with median: 28376.5121 0.0 sec. taken\n",
      "fast_score with min   : 28362.4947 0.0 sec. taken\n",
      "fast_score with max   : 28359.9789 0.0 sec. taken\n",
      "fast_score with 0     : 28359.0076 0.0 sec. taken\n"
     ]
    }
   ],
   "source": [
    "train, test, DS = DS_reaplce_nan(train, test, target_column)\n",
    "\n",
    "train.to_csv(KAGGLE_DIR + 'train' + KAGGLE_PREFIX + '_cleand.csv', index=False)\n",
    "test.to_csv(KAGGLE_DIR + 'test' + KAGGLE_PREFIX + '_cleand.csv', index=False)"
   ]
  },
  {
   "cell_type": "code",
   "execution_count": null,
   "metadata": {},
   "outputs": [],
   "source": []
  },
  {
   "cell_type": "code",
   "execution_count": null,
   "metadata": {},
   "outputs": [],
   "source": []
  },
  {
   "cell_type": "code",
   "execution_count": null,
   "metadata": {},
   "outputs": [],
   "source": []
  },
  {
   "cell_type": "code",
   "execution_count": null,
   "metadata": {},
   "outputs": [],
   "source": []
  }
 ],
 "metadata": {
  "kernelspec": {
   "display_name": "Python 3",
   "language": "python",
   "name": "python3"
  },
  "language_info": {
   "codemirror_mode": {
    "name": "ipython",
    "version": 3
   },
   "file_extension": ".py",
   "mimetype": "text/x-python",
   "name": "python",
   "nbconvert_exporter": "python",
   "pygments_lexer": "ipython3",
   "version": "3.7.0"
  }
 },
 "nbformat": 4,
 "nbformat_minor": 2
}
